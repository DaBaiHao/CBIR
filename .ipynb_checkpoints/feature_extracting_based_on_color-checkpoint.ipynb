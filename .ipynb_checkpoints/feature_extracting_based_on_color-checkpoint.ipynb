{
 "cells": [
  {
   "cell_type": "markdown",
   "metadata": {},
   "source": [
    "## import"
   ]
  },
  {
   "cell_type": "code",
   "execution_count": 1,
   "metadata": {},
   "outputs": [],
   "source": [
    "import glob\n",
    "import os"
   ]
  },
  {
   "cell_type": "markdown",
   "metadata": {},
   "source": [
    "## 读取数据"
   ]
  },
  {
   "cell_type": "code",
   "execution_count": 4,
   "metadata": {},
   "outputs": [
    {
     "name": "stdout",
     "output_type": "stream",
     "text": [
      "25000\n"
     ]
    }
   ],
   "source": [
    "ALL_IMAGE_PATH = 'mirflickr25k/mirflickr/'#存放图片的文件夹路径\n",
    "IMAGE_PATH = glob.glob(os.path.join(ALL_IMAGE_PATH, '*.jpg'))\n",
    "IMAGE_PATH.sort()\n",
    "print(len(IMAGE_PATH))"
   ]
  },
  {
   "cell_type": "markdown",
   "metadata": {},
   "source": []
  },
  {
   "cell_type": "code",
   "execution_count": 4,
   "metadata": {},
   "outputs": [],
   "source": [
    "import numpy as np\n",
    "import cv2\n",
    "import imutils\n",
    "\n",
    "class ColorDescriptor:\n",
    "    def __init__(self, bins):\n",
    "        # store the number of bins for the 3D histogram\n",
    "        self.bins = bins\n",
    " \n",
    "    def describe(self, image):\n",
    "        # convert the image to the HSV color space and initialize\n",
    "        # the features used to quantify the image\n",
    "        image = cv2.cvtColor(image, cv2.COLOR_BGR2HSV)\n",
    "        features = []\n",
    " \n",
    "        # grab the dimensions and compute the center of the image\n",
    "        (h, w) = image.shape[:2]\n",
    "        (cX, cY) = (int(w * 0.5), int(h * 0.5))\n",
    "        # divide the image into four rectangles/segments (top-left,\n",
    "        # top-right, bottom-right, bottom-left)\n",
    "        segments = [(0, cX, 0, cY), \n",
    "                    (cX, w, 0, cY), \n",
    "                    (cX, w, cY, h),\n",
    "                    (0, cX, cY, h)]\n",
    "        # construct an elliptical mask representing the center of the\n",
    "        # image\n",
    "        (axesX, axesY) = (int(w * 0.75) // 2, int(h * 0.75) // 2)\n",
    "        ellipMask = np.zeros(image.shape[:2], dtype = \"uint8\")\n",
    "        cv2.ellipse(ellipMask, (cX, cY), (axesX, axesY), 0, 0, 360, 255, -1)\n",
    "        \n",
    "        # loop over the segments\n",
    "        for (startX, endX, startY, endY) in segments:\n",
    "            # construct a mask for each corner of the image, subtracting\n",
    "            # the elliptical center from it\n",
    "            cornerMask = np.zeros(image.shape[:2], dtype = \"uint8\")\n",
    "            cv2.rectangle(cornerMask, (startX, startY), (endX, endY), 255, -1)\n",
    "            cornerMask = cv2.subtract(cornerMask, ellipMask)\n",
    " \n",
    "            # extract a color histogram from the image, then update the\n",
    "            # feature vector\n",
    "            hist = self.histogram(image, cornerMask)\n",
    "            features.extend(hist)\n",
    " \n",
    "        # extract a color histogram from the elliptical region and\n",
    "        # update the feature vector\n",
    "        hist = self.histogram(image, ellipMask)\n",
    "        features.extend(hist)\n",
    "        \n",
    "        \n",
    "    def histogram(self, image, mask):\n",
    "        # extract a 3D color histogram from the masked region of the\n",
    "        # image, using the supplied number of bins per channel\n",
    "        hist = cv2.calcHist([image], \n",
    "                            [0, 1, 2], \n",
    "                            mask, \n",
    "                            self.bins,\n",
    "                            [0, 180, 0, 256, 0, 256])\n",
    "        \n",
    "        # normalize the histogram\n",
    "        hist = cv2.normalize(hist, hist).flatten()\n",
    "        # return the histogram\n",
    "        return hist"
   ]
  },
  {
   "cell_type": "code",
   "execution_count": null,
   "metadata": {},
   "outputs": [],
   "source": []
  }
 ],
 "metadata": {
  "kernelspec": {
   "display_name": "Python 3",
   "language": "python",
   "name": "python3"
  },
  "language_info": {
   "codemirror_mode": {
    "name": "ipython",
    "version": 3
   },
   "file_extension": ".py",
   "mimetype": "text/x-python",
   "name": "python",
   "nbconvert_exporter": "python",
   "pygments_lexer": "ipython3",
   "version": "3.6.8"
  }
 },
 "nbformat": 4,
 "nbformat_minor": 2
}
